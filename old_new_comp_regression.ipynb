{
 "cells": [
  {
   "cell_type": "code",
   "execution_count": 2,
   "metadata": {},
   "outputs": [
    {
     "data": {
      "text/plain": [
       "<matplotlib.text.Text at 0x2ba0b5cbf250>"
      ]
     },
     "execution_count": 2,
     "metadata": {},
     "output_type": "execute_result"
    },
    {
     "data": {
      "image/png": "[encoded data removed]",
      "text/plain": [
       "<matplotlib.figure.Figure at 0x2ba0b5943a50>"
      ]
     },
     "metadata": {},
     "output_type": "display_data"
    }
   ],
   "source": [
    "%matplotlib inline\n",
    "\n",
    "import matplotlib.pyplot as plt\n",
    "oldembed = pd.read_table('all20_component.csv',sep=\",\",index_col=0)\n",
    "newembed = pd.read_table('disease_embeddings_longer_run.txt',sep=\",\",index_col=0)\n",
    "oldembed.index = oldembed.index.str.replace(\"-\",\"_\")\n",
    "newmatch = newembed.loc[oldembed.index,:]\n",
    "W = np.linalg.inv(oldembed.transpose().dot(oldembed)).dot(oldembed.transpose()).dot(newmatch)\n",
    "from scipy import stats \n",
    "otrans = oldembed.dot(W)\n",
    "pr = otrans.apply(lambda x: stats.pearsonr(x, newmatch.loc[x.name,:])[0], axis=1)\n",
    "plt.hist(pr)\n",
    "plt.xlabel('old-new correlation')\n",
    "plt.ylabel('# diseases')"
   ]
  }
 ],
 "metadata": {
  "kernelspec": {
   "display_name": "Python [conda root]",
   "language": "python",
   "name": "conda-root-py"
  },
  "language_info": {
   "codemirror_mode": {
    "name": "ipython",
    "version": 2
   },
   "file_extension": ".py",
   "mimetype": "text/x-python",
   "name": "python",
   "nbconvert_exporter": "python",
   "pygments_lexer": "ipython2",
   "version": "2.7.13"
  }
 },
 "nbformat": 4,
 "nbformat_minor": 2
}
